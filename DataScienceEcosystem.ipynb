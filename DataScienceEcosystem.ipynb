{
  "metadata": {
    "kernelspec": {
      "name": "xcpp17",
      "display_name": "C++17",
      "language": "cpp"
    },
    "language_info": {
      "codemirror_mode": "text/x-c++src",
      "file_extension": ".cpp",
      "mimetype": "text/x-c++src",
      "name": "C++",
      "version": "17"
    }
  },
  "nbformat_minor": 5,
  "nbformat": 4,
  "cells": [
    {
      "id": "dc8140dc-106a-4811-97e9-daa808bd122e",
      "cell_type": "markdown",
      "source": "# Data Science Tools and Ecosystem\nIn this notebook, Data Science Tools and Ecosystem are summarized.\n**Objectives:**\n\n- List popular languages for Data Science  \n- List commonly used libraries for Data Science  \n- Create tables to summarize Data Science tools  \n- Perform simple arithmetic operations using Python  \n- Convert minutes to hours using Python code\nSome of the popular languages that Data Scientists use are:\n\n1. Python  \n2. R  \n3. SQL  \n4. Julia\nSome of the commonly used libraries used by Data Scientists include:\n\n1. Pandas  \n2. NumPy  \n3. Matplotlib  \n4. Scikit-learn  \n5. TensorFlow\n| Data Science Tools |\n|---------------------|\n| Jupyter Notebook |\n| RStudio |\n| Apache Zeppelin |\n### Below are a few examples of evaluating arithmetic expressions in Python.\n# This is a simple arithmetic expression to multiply then add integers\n(3 * 4) + 5\n# This will convert 200 minutes to hours by dividing by 60\n200 / 60\n## Author\nSaugat Neupane\n",
      "metadata": {}
    },
    {
      "id": "bcd9622c-bf48-4769-b467-65a366c472dd",
      "cell_type": "code",
      "source": "",
      "metadata": {
        "trusted": true
      },
      "outputs": [],
      "execution_count": null
    }
  ]
}